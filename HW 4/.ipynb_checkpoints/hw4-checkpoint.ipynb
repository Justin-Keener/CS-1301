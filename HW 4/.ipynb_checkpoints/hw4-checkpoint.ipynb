{
 "cells": [
  {
   "cell_type": "code",
   "execution_count": 1,
   "metadata": {},
   "outputs": [
    {
     "name": "stdout",
     "output_type": "stream",
     "text": [
      "[10, 'cat', 5.2, 'hello', 'Hello', 0]\n"
     ]
    }
   ],
   "source": [
    "\"\"\"\n",
    "    Function Name: remove_duplicates\n",
    "    Parameters: aList\n",
    "    Return value: The modified list.\n",
    "    Description: Write a function that takes in a list. Return a new list that has removed all of\n",
    "    the duplicates from the first list. The modified list should have the unique elements in\n",
    "    the same order as the original list. If there are no duplicates, then return the original list.\n",
    "    If the original list is empty return an empty list.\n",
    "\"\"\"\n",
    "def remove_duplicates(oldList):\n",
    "    new_list = []\n",
    "    for item in oldList:\n",
    "        if item not in new_list:\n",
    "            new_list.append(item)\n",
    "    print(new_list)\n",
    "remove_duplicates([10,\"cat\",5.2,\"hello\", \"cat\", \"Hello\",0])"
   ]
  },
  {
   "cell_type": "code",
   "execution_count": 2,
   "metadata": {},
   "outputs": [
    {
     "name": "stdout",
     "output_type": "stream",
     "text": [
      "False\n",
      "True\n"
     ]
    }
   ],
   "source": [
    "\"\"\"\n",
    "    Function Name: common_elements\n",
    "    Parameters: list1 and list2\n",
    "    Return value: True if the two lists have at least one common element. False if they are\n",
    "    different.\n",
    "    Description: Write a function that takes in two lists. If the two lists have at least one\n",
    "    common element, return True. If the two lists are completely different, return False. You\n",
    "    can assume that none of the lists will be empty.\n",
    "\"\"\"\n",
    "def common_elements(list1,list2):\n",
    "    for item_in_list1 in list1:\n",
    "        if item_in_list1 in list2: # Compares items in list 1 with items in list 2\n",
    "            return True\n",
    "        elif item_in_list1 not in list2:\n",
    "            return False\n",
    "    \n",
    "print(common_elements([1,2,3,4],[6,7,8,9,10]))\n",
    "print(common_elements([\"goodbye\",88,True,\"yellow\"],[\"orange\",False,\"red\",\"goodbye\",0]))"
   ]
  },
  {
   "cell_type": "code",
   "execution_count": 3,
   "metadata": {},
   "outputs": [
    {
     "name": "stdout",
     "output_type": "stream",
     "text": [
      "[8, 9, 0, True, 'ok', False]\n"
     ]
    }
   ],
   "source": [
    "\"\"\"\n",
    "    Function Name: flatten_list\n",
    "    Parameters: list1\n",
    "    Return value: A list that contains the elements of the list passed in and the elements of\n",
    "    the nested lists.\n",
    "    Description: Write a function that takes a list and returns a new list. If any of the\n",
    "    elements in the list are also lists, the returned list should have the individual elements of\n",
    "    that nested list. You can assume that the nested list will not contain any elements that\n",
    "    are also lists. If the original list is empty you can return an empty list.\n",
    "    Hint: Try using the type() function.\n",
    "\"\"\"\n",
    "\n",
    "def flatten_list(list1):\n",
    "    newlist = []\n",
    "    for items in list1:\n",
    "        if type(items) != list: \n",
    "            newlist.append(items)\n",
    "        else:\n",
    "            for i in items:\n",
    "                newlist.append(i)\n",
    "    return newlist\n",
    "\n",
    "print(flatten_list([8, 9, [0, True, \"ok\"], False]))\n"
   ]
  },
  {
   "cell_type": "code",
   "execution_count": 4,
   "metadata": {},
   "outputs": [
    {
     "name": "stdout",
     "output_type": "stream",
     "text": [
      "[2, 44, 24, 34, 20, 88, 8]\n"
     ]
    }
   ],
   "source": [
    "\"\"\"\n",
    "    Function Name: make_odd_even\n",
    "    Parameters: list1\n",
    "    Return Value: The modified list.\n",
    "    Description: Write a function that takes a list and returns a new list. You can assume\n",
    "    that the list passed in will only contain integers. If the elements of the list are even, add\n",
    "    them to the new list. If the elements of the list are odd, make them even by adding 1\n",
    "    and then add that new number to the list. If the original list is empty you can return an\n",
    "    empty list. You may assume the integer 0 is even.\n",
    "\"\"\"\n",
    "\n",
    "def make_odd_even(oldList):\n",
    "    newList = []\n",
    "    for items in oldList:\n",
    "        if items % 2 == 0:\n",
    "            newList.append(items) \n",
    "        elif items % 2 == 1:\n",
    "            new_items = items + 1\n",
    "            newList.append(new_items)\n",
    "    return newList\n",
    "print(make_odd_even([2,43,23,34,20,88,7]))"
   ]
  },
  {
   "cell_type": "code",
   "execution_count": 5,
   "metadata": {},
   "outputs": [
    {
     "name": "stdout",
     "output_type": "stream",
     "text": [
      "['butterfly', 19, True, 'shirt', 8, 'computer']\n",
      "['water', 'sand', 'beach', 14, False, 'earring', 'smile', 17]\n"
     ]
    }
   ],
   "source": [
    "\"\"\"\n",
    "    Function Name: unique_lists\n",
    "    Parameters: list1, list2\n",
    "    Return Value: The modified list1.\n",
    "    Description: Write a function that takes in two lists. If an element in list2 is not in list1,\n",
    "    append that element to list1. If an element in list2 is already in list1, remove that\n",
    "    element from list1. Return the updated list1.\n",
    "\"\"\"\n",
    "\n",
    "def unique_lists(list1,list2):\n",
    "    for items in list2:\n",
    "        if items not in list1:\n",
    "            list1.append(items)\n",
    "        elif items in list1:\n",
    "            list1.remove(items)\n",
    "    return list1\n",
    "\n",
    "print(unique_lists([6,\"butterfly\",\"waffle\",19],[True,\"shirt\",8,\"waffle\",6,\"computer\"]))\n",
    "print(unique_lists([\"water\", \"sand\", \"beach\", 14],[False, \"earring\", \"smile\", 17]))"
   ]
  },
  {
   "cell_type": "code",
   "execution_count": 6,
   "metadata": {},
   "outputs": [
    {
     "name": "stdout",
     "output_type": "stream",
     "text": [
      "[2, 3, 4, 2, 3, 2, 4]\n"
     ]
    }
   ],
   "source": [
    "\"\"\"\n",
    "    Function Name: process_string\n",
    "    Parameters: aStr, aNum (int)\n",
    "    Return value: a list of ints\n",
    "\n",
    "    Description: Write a function that accepts a string of characters, filters out all non-\n",
    "    number characters from the string, and returns a list of the numbers in the string that\n",
    "\n",
    "    are a factor of aNum. NOTE: You can also ignore all zeroes (0) in the string, as 0 is not\n",
    "    a factor of any number.\n",
    "\"\"\"\n",
    "def process_string(aStr,aNum):\n",
    "    new_string = \"\"\n",
    "    newList = []\n",
    "    for items in aStr:\n",
    "        if items in \"123456789\":\n",
    "            new_string += items     # if there are numbers, then place them into new string\n",
    "    for items in new_string:\n",
    "        if aNum % int(items) == 0:  # converts the string numbers into integers to determine if they're a factor of aNum\n",
    "            newList.append(int(items)) # places those numbers into a list\n",
    "    return newList\n",
    "\n",
    "print(process_string(\"jahfig234thdajg0gri9t2832488radga\", 12))"
   ]
  },
  {
   "cell_type": "code",
   "execution_count": 8,
   "metadata": {},
   "outputs": [
    {
     "name": "stdout",
     "output_type": "stream",
     "text": [
      "['Josh Washington', 'Beth Washington', 'Hannah Washington']\n",
      "['Lina Ramirez', 'Daniela Ramirez']\n",
      "[]\n"
     ]
    }
   ],
   "source": [
    "\"\"\"\n",
    "    Function name: find_family\n",
    "    Parameters: names_list (a list of strings); surname (string)\n",
    "    Return value: a list containing the first names of all the people that have surname AND\n",
    "    do not have middle names.\n",
    "    Description: Write a function that takes in a list of names and a specific surname to\n",
    "    search for. Return a list of the UNIQUE first names of all the names in names_list that\n",
    "    have surname AND do not have middle names. NOTE: Each name could have 0 or\n",
    "    more middle names, but all names have a first and last name.\n",
    "\"\"\"\n",
    "\n",
    "def find_family(names_list,surname):\n",
    "    newList = []\n",
    "    for names in names_list:\n",
    "        if surname in names:\n",
    "            count = 0\n",
    "            for element in names:\n",
    "                if element == \" \":\n",
    "                    count += 1\n",
    "                    if count <= 1:\n",
    "                        newList.append(names)\n",
    "            if count > 1:\n",
    "                newList.remove(names)\n",
    "\n",
    "    print(newList)\n",
    "    \n",
    "find_family([\"Josh Washington\", \"Chris Hartley\", \"Sam Giddings\", \"Beth Washington\", \"Jessica Riley\", \"Ashley Brown\",\n",
    "\"Hannah Washington\", \"Mike Munroe\", \"Matt Taylor\", \"Emily Davis\"], \"Washington\")\n",
    "\n",
    "find_family([\"Esteban Julio Ricardo Montoya de la Rosa Ramirez\", \"Lina Ramirez\", \"Sebastian Alejandro Ramirez\",\n",
    "\"Zack Martin\", \"Cody Martin\", \"Jonathan Romero\", \"Daniela Ramirez\"],\"Ramirez\")\n",
    "\n",
    "find_family([\"John Roberts\", \"Anthony Kennedy\", \"Clarence Thomas\", \"Ruth Bader Ginsburg\", \n",
    "\"Stephen Breyer\", \"Samuel Alito\", \"Sonia Sotomayor\", \"Elena Kagan\", \"Neil Gorsuch\"],\"O'Connor\")"
   ]
  },
  {
   "cell_type": "code",
   "execution_count": 9,
   "metadata": {},
   "outputs": [
    {
     "name": "stdout",
     "output_type": "stream",
     "text": [
      "[7, 14, 18]\n"
     ]
    }
   ],
   "source": [
    "\"\"\"\n",
    "    Function name: add_next\n",
    "    Parameters: aList (a list of integers)\n",
    "    Return value: None\n",
    "    Description: Overwrite each element in aList with its value added with the value of the\n",
    "    next element in the list. The last element on the list (or if there is only one element in the\n",
    "    list) should be added to itself.\n",
    "\"\"\"\n",
    "\n",
    "def add_next(aList):\n",
    "    for position in range(len(aList)):\n",
    "        if position < (len(aList)-1):\n",
    "            aList[position] = aList[position] + aList[position + 1]\n",
    "        else:\n",
    "            aList[position] = aList[position] * 2\n",
    "    print(aList)\n",
    "\n",
    "things = [2,5,9]\n",
    "add_next(things)"
   ]
  },
  {
   "cell_type": "code",
   "execution_count": null,
   "metadata": {},
   "outputs": [],
   "source": []
  }
 ],
 "metadata": {
  "kernelspec": {
   "display_name": "Python 3",
   "language": "python",
   "name": "python3"
  },
  "language_info": {
   "codemirror_mode": {
    "name": "ipython",
    "version": 3
   },
   "file_extension": ".py",
   "mimetype": "text/x-python",
   "name": "python",
   "nbconvert_exporter": "python",
   "pygments_lexer": "ipython3",
   "version": "3.6.2"
  }
 },
 "nbformat": 4,
 "nbformat_minor": 2
}
