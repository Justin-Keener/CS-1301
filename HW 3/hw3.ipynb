{
 "cells": [
  {
   "cell_type": "code",
   "execution_count": 1,
   "metadata": {},
   "outputs": [
    {
     "name": "stdout",
     "output_type": "stream",
     "text": [
      "eohll\n",
      "Oaoaklhm\n",
      "oueieeCmptr Scnc \n",
      "\n"
     ]
    }
   ],
   "source": [
    "\"\"\" \n",
    "    Function name (1): rearrange_vowels\n",
    "    Parameters: string to be iterated through (str)\n",
    "    Return value: string starting with all of the vowels of the original string, and\n",
    "    ending with all of the consonants of the original string (str)\n",
    "    Description: Write a function that takes in a string and separates all of the vowels from the consonants, and creates\n",
    "    a new string made from the separated portions. The ordering of the vowels and consonants should\n",
    "    be the same order that they are present in the string. Consider only “a”,”e”,”i”,”o”, and “u” as vowels.\n",
    "    “Y” should be considered a consonant. Capitalization should also be preserved. Any spaces present\n",
    "    in the original string should be ignored and not added to the final output. You must use a for loop in\n",
    "    this function to receive full credit.\n",
    "\"\"\"\n",
    "\n",
    "def rearrange_vowels(word):\n",
    "    vowel = \"\"\n",
    "    consonant = \"\"\n",
    "    for letter in word:\n",
    "        if letter in \"aeiouAEIOU\":\n",
    "            vowel += letter\n",
    "        else:\n",
    "            consonant += letter\n",
    "    return vowel + consonant\n",
    "\n",
    "print(rearrange_vowels(\"hello\"))\n",
    "print(rearrange_vowels(\"Oklahoma\"))\n",
    "print(rearrange_vowels(\"Computer Science\"), \"\\n\")"
   ]
  },
  {
   "cell_type": "code",
   "execution_count": 2,
   "metadata": {},
   "outputs": [
    {
     "name": "stdout",
     "output_type": "stream",
     "text": [
      "Wh!t th# h#ck!\n",
      "Yo* sm#ll b!d\n",
      "@ Lov# CS! \n",
      "\n"
     ]
    }
   ],
   "source": [
    "\"\"\"\n",
    "Function name (2): censor\n",
    "    Parameters: string to censor (str)\n",
    "    Return value: censored string (str)\n",
    "    Description: You are working at a children’s television network, and your job is to censor any words that could\n",
    "    potentially be inappropriate. In order to do this, you have to replace certain letters with symbols. You\n",
    "    must use a for loop in this function to receive full credit. The rules for censorship or as follows:\n",
    "    1. “a” or “A” → “!”\n",
    "    2. “u” or “U” → “*”\n",
    "    3. “i” or “I” → “@”\n",
    "    4. “e” or “E” → “#”\n",
    "\"\"\"\n",
    "def censor(word):\n",
    "    next_letter = \"\"\n",
    "    for letter in word:\n",
    "        if letter in \"aA\":\n",
    "            next_letter += \"!\"\n",
    "        elif letter in \"uU\":\n",
    "            next_letter += \"*\"\n",
    "        elif letter in \"iI\":\n",
    "            next_letter += \"@\"\n",
    "        elif letter in \"eE\":\n",
    "            next_letter += \"#\"\n",
    "        else:\n",
    "           next_letter += letter\n",
    "    return next_letter\n",
    "print(censor(\"What the heck!\"))\n",
    "print(censor(\"You smell bad\"))\n",
    "print(censor(\"I Love CS!\"),\"\\n\")"
   ]
  },
  {
   "cell_type": "code",
   "execution_count": 3,
   "metadata": {},
   "outputs": [
    {
     "name": "stdout",
     "output_type": "stream",
     "text": [
      "5 even multiple(s) and  0 odd multiple(s) from 2 - 10\n",
      "2 even multiple(s) and  2 odd multiple(s) from 3 - 14\n",
      "5 even multiple(s) and  0 odd multiple(s) from 1 - 10\n",
      "4 even multiple(s) and  0 odd multiple(s) from -4 - 8\n"
     ]
    }
   ],
   "source": [
    "\"\"\"\n",
    "    Function name (3): odd_and_even_multiples\n",
    "    Parameters: non-zero lower bound of the range and number used to calculate\n",
    "    multiples (int), upper-bound of a range (int)\n",
    "    Return value: string displaying the number of odds and evens (str) (follow the\n",
    "    format below exactly, not having the exact format will result in not receiving\n",
    "    full credit for this function)\n",
    "    \n",
    "    Description: Your function should iterate through a range from the lower bound of the range to the given upper-  \n",
    "    bound. Count the number of odd and even numbers that are multiples of the first parameter. Ensure\n",
    "\n",
    "    that the upper bound is actually included in the range for this function. Be sure to return the string in\n",
    "    the exact format below.\n",
    "\"\"\"\n",
    "\n",
    "def odd_and_even_multiples(lowerbound,upperbound,):\n",
    "    counter = 0\n",
    "    counter1 = 0\n",
    "    number = lowerbound\n",
    "    for i in range(lowerbound,upperbound+1):\n",
    "        if i % lowerbound == 0 and i % 2 == 0:\n",
    "            counter += 1\n",
    "        elif i % lowerbound == 1 and i % 2 == 0:\n",
    "            counter1 += 1\n",
    "    return print(counter, \"even multiple(s) and \", counter1, \"odd multiple(s) from\",lowerbound,\"-\",upperbound)\n",
    "\n",
    "odd_and_even_multiples(2,10)\n",
    "odd_and_even_multiples(3,14)\n",
    "odd_and_even_multiples(1,10)\n",
    "odd_and_even_multiples(-4,8)"
   ]
  },
  {
   "cell_type": "code",
   "execution_count": 4,
   "metadata": {},
   "outputs": [
    {
     "name": "stdout",
     "output_type": "stream",
     "text": [
      "s\n",
      "p\n",
      "\n",
      "c \n",
      "\n"
     ]
    }
   ],
   "source": [
    "\"\"\"\n",
    "    Function name (4): most_common_character\n",
    "    Parameters: a word or sentence (str), a string containing characters that will be\n",
    "    counted (str)\n",
    "    Return value: a string representing which character of the second parameter appears\n",
    "    most frequently in the phrase string (str).\n",
    "    Description: Write a function that receives two strings as parameters. The first parameter is a sentence, while the\n",
    "    second string will contain any combination of characters (letters, numbers, space, special characters,\n",
    "    etc.). Your code should find which of the given characters in the second parameter appears most\n",
    "    frequently in the sentence string. Case should not be ignored, so for example, “A” and “a” should be\n",
    "    considered two different characters. If no characters appear, an empty string should be returned.\n",
    "\"\"\"\n",
    "\n",
    "def most_common_character(sentence,random_letters):\n",
    "    max_letter = \"\"\n",
    "    char_max = 0\n",
    "    for i in random_letters: # goes through each letter of random letters\n",
    "        count = 0\n",
    "        for letters in sentence: # goes through each letter in the sentence\n",
    "            if i == letters:\n",
    "                count += 1\n",
    "            if char_max < count:\n",
    "                char_max = count\n",
    "                max_letter = i\n",
    "                            \n",
    "    return max_letter\n",
    "\n",
    "print(most_common_character(\"This is a sentence\",\"!aTsn\"))\n",
    "print(most_common_character(\"Mississippi\", \"lmnop\"))\n",
    "print(most_common_character(\"Taylor Swift is bad\",\"mxz\"))\n",
    "print(most_common_character(\"aaa bbb ccc dddddd\",\"cba\"),\"\\n\")"
   ]
  },
  {
   "cell_type": "code",
   "execution_count": 5,
   "metadata": {},
   "outputs": [
    {
     "name": "stdout",
     "output_type": "stream",
     "text": [
      "12\n",
      "21\n",
      "30\n",
      "6 \n",
      "\n"
     ]
    }
   ],
   "source": [
    "\"\"\"\n",
    "    Function name (5): sum_multiples\n",
    "    Parameters: non-zero lower bound of the range and number used to calculate\n",
    "    multiples (int), upper-bound of a range (int)\n",
    "    Return value: sum of the multiples found in the given range (int)\n",
    "    \n",
    "    Description:\n",
    "\n",
    "    Your function should iterate through a range from the lower bound of the range to the given upper-\n",
    "    bound, and, using the first parameter (which is also used for the lower bound), calculate the sum of\n",
    "\n",
    "    any multiples found in the range. Ensure that the upper bound is actually included in the range for\n",
    "    this function.\n",
    "\"\"\"\n",
    "\n",
    "def sum_multiples(lowerbound,upperbound):\n",
    "    count = 0\n",
    "    for i in range(lowerbound,upperbound+1): # starts from lowerbound then increments to upperbound\n",
    "        if i % lowerbound == 0:\n",
    "            count += i\n",
    "    return count\n",
    "\n",
    "print(sum_multiples(2,6)) \n",
    "print(sum_multiples(1,6))\n",
    "print(sum_multiples(5,18))\n",
    "print(sum_multiples(-3,6),\"\\n\")"
   ]
  },
  {
   "cell_type": "code",
   "execution_count": 6,
   "metadata": {},
   "outputs": [
    {
     "name": "stdout",
     "output_type": "stream",
     "text": [
      "ppl\n",
      "msssspp\n",
      "lgrthm \n",
      "\n"
     ]
    }
   ],
   "source": [
    "\"\"\"\n",
    "    Function name (6): remove_vowels\n",
    "    Parameters: a word (str)\n",
    "    Return value: original word without vowels (str)\n",
    "    Description: Write a function that takes a string as a parameter, removes the vowels from the string (upper and\n",
    "    lowercase). It should return one string, consisting of the same letters of the original string, but without\n",
    "    the vowels. Consider only “a”,”e”,”i”,”o”, and “u” as vowels. “Y” should be considered a consonant.\n",
    "    Must iterate through the string.\n",
    "\"\"\"\n",
    "\n",
    "def remove_vowels(word):\n",
    "    vowels = \"aeiouAEIOU\"\n",
    "    new_letter = \"\"\n",
    "    for letter in word:\n",
    "        if  letter not in vowels:\n",
    "            new_letter+= letter\n",
    "    return new_letter\n",
    "\n",
    "print(remove_vowels(\"applE\"))\n",
    "print(remove_vowels(\"mississippi\"))\n",
    "print(remove_vowels(\"logArithm\"),\"\\n\")"
   ]
  },
  {
   "cell_type": "code",
   "execution_count": 7,
   "metadata": {},
   "outputs": [
    {
     "name": "stdout",
     "output_type": "stream",
     "text": [
      "\n",
      "What is your guess? 5\n",
      "Correct! It took you 1 tries.\n",
      "\n"
     ]
    },
    {
     "data": {
      "text/plain": [
       "0"
      ]
     },
     "execution_count": 7,
     "metadata": {},
     "output_type": "execute_result"
    }
   ],
   "source": [
    "\"\"\"\n",
    "    Function name (7): guess_dumplings\n",
    "    Parameters: number of dumplings ate (int)\n",
    "    Return value: number of guesses the user took (int)\n",
    "    Description: Write a function that takes an integer value of the number of dumplings you ate, and asks the user to\n",
    "    try to guess this number. When the user guesses the correct value, print a congratulatory statement\n",
    "    and tell them how many guesses it took. If the user inputs “quit” (exactly the string quit, don’t worry\n",
    "    about edge cases like ‘QUIT’ or ‘Quit’), your code should end, and print the correct answer. The\n",
    "    integer returned if the user quits should be -1. If the user has not guessed the correct answer within\n",
    "    the 5th try, print that they’ve lost the game, and return 0. You must use a while-loop.\n",
    "\"\"\"\n",
    "def guess_dumplings(number_of_dumplings):\n",
    "    guesses = 0\n",
    "    msg = \"\"\n",
    "    while guesses < number_of_dumplings:\n",
    "        guess = input(msg + \"\\nWhat is your guess? \")\n",
    "        guesses += 1\n",
    "        if guess == \"quit\" or guess == \"Quit\":\n",
    "            print(\"The correct answer was \" + str(number_of_dumplings))\n",
    "            return -1        \n",
    "        elif int(guess) != number_of_dumplings:\n",
    "            print(\"Wrong answer, try again\\n\")\n",
    "        elif int(guess) == number_of_dumplings: \n",
    "            print(\"Correct! It took you \" + str(guesses) + \" tries.\\n\")\n",
    "            return 0\n",
    "    print(\"You lose. The correct answer was \" + str(number_of_dumplings))\n",
    "\n",
    "guess_dumplings(5)"
   ]
  },
  {
   "cell_type": "code",
   "execution_count": 8,
   "metadata": {},
   "outputs": [
    {
     "name": "stdout",
     "output_type": "stream",
     "text": [
      "5555555555\n",
      " 44444444\n",
      "  333333\n",
      "   2222\n",
      "    11\n",
      "    11\n",
      "   2222\n",
      "  333333\n",
      " 44444444\n",
      "5555555555\n",
      "5555555555\n",
      " 44444444\n",
      "  333333\n",
      "   2222\n",
      "    11\n"
     ]
    }
   ],
   "source": [
    "\"\"\"\n",
    "    Function name (8): tie\n",
    "    Parameters: a number 2-9 specifying half the max width of the tie (int)\n",
    "    Return value: N/A\n",
    "    Description: Write a function that takes in a number specifying half the width of the tie as a parameter and prints\n",
    "    a tie of those specifications. Make sure the tie prints in the correct format as shown in the example\n",
    "    below. Do not hardcode this. You must use a for-loop (or several).\n",
    "\"\"\"\n",
    "\n",
    "def tie(half_width):\n",
    "    count = 0\n",
    "    for n in range(half_width, 0, -1):\n",
    "        \"\"\"\n",
    "            double = str(n)*(n*2)\n",
    "                double is assigned to the string n that is printed double of whatever the integer is onto one line\n",
    "                such as if n = 2, then double = 2222\n",
    "            print(\" \"*count)\n",
    "                This prints the number of spaces that is equal to the number assigned to count\n",
    "                As count increments by 1, the total number of spaces is incremented too\n",
    "            print(\"\"*count + double)\n",
    "                This prints the number of spaces assigned to count, then at the end of the spaces\n",
    "                is the string of the integer that is being printed twice as much of its integer \n",
    "        \"\"\"        \n",
    "        double = str(n)*(n *  2)\n",
    "        print(\" \"*count + double)\n",
    "        count += 1\n",
    "    \"\"\"\n",
    "        count is at the value of halfwidth. So the next output 11 will be indented\n",
    "        compared to the other output 11 one line above. This is why \n",
    "        count = half_width - 1 is needed to make sure those two different lines have\n",
    "        the same indention.\n",
    "    \"\"\"\n",
    "    count = half_width - 1 \n",
    "    for n in range(1,half_width+1):\n",
    "        double = str(n)*(n*2)\n",
    "        print(\" \"*count + double)\n",
    "        count -= 1\n",
    "\n",
    "    count = 0\n",
    "    for n in range(half_width,0,-1):\n",
    "        double = str(n)*(n*2)\n",
    "        print(\" \"*count + double)\n",
    "        count += 1\n",
    "    \n",
    "tie(5)"
   ]
  },
  {
   "cell_type": "code",
   "execution_count": null,
   "metadata": {},
   "outputs": [],
   "source": []
  }
 ],
 "metadata": {
  "kernelspec": {
   "display_name": "Python 3",
   "language": "python",
   "name": "python3"
  },
  "language_info": {
   "codemirror_mode": {
    "name": "ipython",
    "version": 3
   },
   "file_extension": ".py",
   "mimetype": "text/x-python",
   "name": "python",
   "nbconvert_exporter": "python",
   "pygments_lexer": "ipython3",
   "version": "3.6.2"
  }
 },
 "nbformat": 4,
 "nbformat_minor": 2
}
